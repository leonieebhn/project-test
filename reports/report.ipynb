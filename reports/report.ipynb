{
 "cells": [
  {
   "cell_type": "markdown",
   "metadata": {},
   "source": [
    "# Report"
   ]
  },
  {
   "cell_type": "markdown",
   "metadata": {},
   "source": [
    "## Introduction and data"
   ]
  },
  {
   "cell_type": "markdown",
   "metadata": {},
   "source": [
    "> REMOVE THE FOLLOWING TEXT\n",
    "\n",
    "This section includes an introduction to the project motivation, data, and (research) question.\n",
    "\n",
    "> Use content from the [BIG IDEA worksheet](https://docs.google.com/document/d/1-GZvhdbhLYLB_Bo1arj1rgTqbJ5SUoU21vtgbYEhVqk/edit?usp=sharing)   \n",
    "\n",
    "Describe the data and definitions of key variables.\n",
    "\n",
    "It should also include some exploratory data analysis.\n",
    "\n",
    "*All of the EDA won't fit in the paper, so focus on the EDA for the response variable and a few other interesting variables and relationships.*"
   ]
  },
  {
   "cell_type": "code",
   "execution_count": null,
   "metadata": {},
   "outputs": [],
   "source": []
  },
  {
   "cell_type": "markdown",
   "metadata": {},
   "source": [
    "## Visualizations"
   ]
  },
  {
   "cell_type": "markdown",
   "metadata": {},
   "source": [
    "> REMOVE THE FOLLOWING TEXT\n",
    "\n",
    "This section includes a brief description of your visualization creation process.\n",
    "\n",
    "Explain the reasoning for the type of visualization you're using and what other types you considered. \n",
    "\n",
    "Additionally, show how you arrived at the final visualization by describing the plot selection process, variable transformations (if needed), and any other relevant considerations that were part of the visualization creation process."
   ]
  },
  {
   "cell_type": "code",
   "execution_count": null,
   "metadata": {},
   "outputs": [],
   "source": []
  },
  {
   "cell_type": "markdown",
   "metadata": {},
   "source": [
    "## Conclusion + recommended action\n"
   ]
  },
  {
   "cell_type": "markdown",
   "metadata": {},
   "source": [
    "> REMOVE THE FOLLOWING TEXT\n",
    "\n",
    "In this section you'll include a summary of what you have learned about your (research) question along with (statistical) arguments supporting your conclusions.\n",
    "\n",
    "In addition, discuss the limitations of your analysis and provide suggestions on ways the analysis could be improved.\n",
    "\n",
    "Any potential issues pertaining to the reliability and validity of your data and appropriateness of the statistical analysis should also be discussed here.\n",
    "\n",
    "Lastly, this section will include your recommended action."
   ]
  },
  {
   "cell_type": "markdown",
   "metadata": {},
   "source": []
  }
 ],
 "metadata": {
  "kernelspec": {
   "display_name": "Python 3.9.6 64-bit",
   "language": "python",
   "name": "python3"
  },
  "language_info": {
   "name": "python",
   "version": "3.9.6"
  },
  "orig_nbformat": 4,
  "vscode": {
   "interpreter": {
    "hash": "31f2aee4e71d21fbe5cf8b01ff0e069b9275f58929596ceb00d14d90e3e16cd6"
   }
  }
 },
 "nbformat": 4,
 "nbformat_minor": 2
}
